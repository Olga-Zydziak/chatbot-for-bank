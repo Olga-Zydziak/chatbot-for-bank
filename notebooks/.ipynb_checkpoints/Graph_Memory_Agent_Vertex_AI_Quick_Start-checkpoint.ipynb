{
 "cells": [
  {
   "cell_type": "markdown",
   "metadata": {},
   "source": [
    "# 🧠 Graph Memory Agent - Vertex AI Quick Start\n",
    "\n",
    "**Prosty test agenta konwersacyjnego dla bankowości**\n",
    "\n",
    "Ten notebook zawiera:\n",
    "- ✅ Graph memory (triple store)\n",
    "- ✅ Regex-based fact extraction\n",
    "- ✅ TF-IDF FAQ retrieval\n",
    "- ✅ PII protection\n",
    "\n",
    "**Instrukcja:** Uruchom wszystkie komórki po kolei (Run All)\n",
    "\n",
    "---"
   ]
  },
  {
   "cell_type": "markdown",
   "metadata": {},
   "source": [
    "## 📦 Krok 1: Instalacja zależności"
   ]
  },
  {
   "cell_type": "code",
   "execution_count": 1,
   "metadata": {
    "tags": []
   },
   "outputs": [
    {
     "name": "stdout",
     "output_type": "stream",
     "text": [
      "✅ Zależności zainstalowane!\n"
     ]
    }
   ],
   "source": [
    "!pip install -q pydantic>=2.9.0 numpy>=1.24.0 scikit-learn>=1.3.0 pandas>=2.0.0\n",
    "\n",
    "print(\"✅ Zależności zainstalowane!\")"
   ]
  },
  {
   "cell_type": "markdown",
   "metadata": {},
   "source": [
    "## 📚 Krok 2: Importy"
   ]
  },
  {
   "cell_type": "code",
   "execution_count": 2,
   "metadata": {
    "tags": []
   },
   "outputs": [
    {
     "name": "stdout",
     "output_type": "stream",
     "text": [
      "✅ Importy załadowane\n"
     ]
    }
   ],
   "source": [
    "import re\n",
    "import hashlib\n",
    "from datetime import datetime, timezone\n",
    "from typing import Final, Annotated\n",
    "from dataclasses import dataclass\n",
    "from threading import RLock\n",
    "\n",
    "import numpy as np\n",
    "import pandas as pd\n",
    "from pydantic import BaseModel, ConfigDict, Field, field_validator\n",
    "from sklearn.feature_extraction.text import TfidfVectorizer\n",
    "from sklearn.metrics.pairwise import cosine_similarity\n",
    "\n",
    "print(\"✅ Importy załadowane\")"
   ]
  },
  {
   "cell_type": "markdown",
   "metadata": {},
   "source": [
    "## 🏗️ Krok 3: Domain Models"
   ]
  },
  {
   "cell_type": "code",
   "execution_count": 3,
   "metadata": {
    "tags": []
   },
   "outputs": [
    {
     "name": "stdout",
     "output_type": "stream",
     "text": [
      "✅ Models zdefiniowane\n"
     ]
    }
   ],
   "source": [
    "class Triple(BaseModel):\n",
    "    \"\"\"Knowledge graph triple: (subject, predicate, object)\"\"\"\n",
    "    \n",
    "    model_config = ConfigDict(frozen=True, strict=True)\n",
    "    \n",
    "    id: str = Field(default=\"\", description=\"Deterministic triple ID\")\n",
    "    user_id: str = Field(min_length=1, max_length=64)\n",
    "    s: str = Field(min_length=1, description=\"Subject\")\n",
    "    p: str = Field(min_length=1, max_length=64, description=\"Predicate\")\n",
    "    o: str = Field(min_length=1, description=\"Object\")\n",
    "    source: str = Field(default=\"extraction\", max_length=64)\n",
    "    confidence: Annotated[float, Field(ge=0.0, le=1.0)] = 1.0\n",
    "    created_at: datetime = Field(\n",
    "        default_factory=lambda: datetime.now(timezone.utc)\n",
    "    )\n",
    "    \n",
    "    def __init__(self, **data):\n",
    "        super().__init__(**data)\n",
    "        if not self.id:\n",
    "            triple_key = f\"{self.user_id}|{self.s}|{self.p}|{self.o}\"\n",
    "            hash_digest = hashlib.sha256(triple_key.encode()).hexdigest()\n",
    "            object.__setattr__(self, \"id\", hash_digest[:16])\n",
    "    \n",
    "    @field_validator(\"p\")\n",
    "    @classmethod\n",
    "    def validate_predicate(cls, v: str) -> str:\n",
    "        if not v.replace(\"_\", \"\").isalnum():\n",
    "            raise ValueError(f\"Predicate must be snake_case: {v}\")\n",
    "        return v\n",
    "\n",
    "\n",
    "class FAQEntry(BaseModel):\n",
    "    \"\"\"FAQ entry with validation\"\"\"\n",
    "    \n",
    "    model_config = ConfigDict(frozen=True, strict=True)\n",
    "    \n",
    "    id: Annotated[int, Field(gt=0)]\n",
    "    category: str = Field(min_length=1, max_length=64)\n",
    "    q: str = Field(min_length=1, max_length=500)\n",
    "    aliases: list[str] = Field(default_factory=list)\n",
    "    a: str = Field(min_length=1, max_length=2000)\n",
    "    next_steps: list[str] = Field(default_factory=list)\n",
    "    tags: list[str] = Field(default_factory=list)\n",
    "\n",
    "\n",
    "print(\"✅ Models zdefiniowane\")"
   ]
  },
  {
   "cell_type": "markdown",
   "metadata": {},
   "source": [
    "## 🛡️ Krok 4: Security Layer"
   ]
  },
  {
   "cell_type": "code",
   "execution_count": 4,
   "metadata": {
    "tags": []
   },
   "outputs": [
    {
     "name": "stdout",
     "output_type": "stream",
     "text": [
      "✅ Security layer zdefiniowany\n"
     ]
    }
   ],
   "source": [
    "# Allowed predicates\n",
    "ALLOWED_PREDICATES: Final[set[str]] = {\n",
    "    \"prefers_currency\",\n",
    "    \"contact_channel\",\n",
    "    \"interested_in\",\n",
    "}\n",
    "\n",
    "# PII detection patterns\n",
    "PII_PATTERNS: Final[dict[str, re.Pattern]] = {\n",
    "    \"iban\": re.compile(r\"\\b[A-Z]{2}[0-9]{2}[A-Z0-9]{11,30}\\b\", re.IGNORECASE),\n",
    "    \"card\": re.compile(r\"\\b[0-9]{4}[\\s\\-]?[0-9]{4}[\\s\\-]?[0-9]{4}[\\s\\-]?[0-9]{4}\\b\"),\n",
    "    \"email\": re.compile(r\"\\b[A-Za-z0-9._%+-]+@[A-Za-z0-9.-]+\\.[A-Z|a-z]{2,}\\b\", re.IGNORECASE),\n",
    "    \"phone\": re.compile(r\"\\b(\\+?[0-9]{1,4}[\\s\\-]?)?(\\()?[0-9]{3}(\\))?[\\s\\-]?[0-9]{3}[\\s\\-]?[0-9]{3,4}\\b\"),\n",
    "}\n",
    "\n",
    "MAX_OBJECT_LENGTH: Final[int] = 120\n",
    "\n",
    "\n",
    "class PolicyViolation(Exception):\n",
    "    \"\"\"Raised when triple violates write policy\"\"\"\n",
    "    def __init__(self, message: str, reason: str):\n",
    "        super().__init__(message)\n",
    "        self.reason = reason\n",
    "\n",
    "\n",
    "def validate_triple(triple: Triple) -> None:\n",
    "    \"\"\"Validate triple against all policies\"\"\"\n",
    "    # Check predicate allowlist\n",
    "    if triple.p not in ALLOWED_PREDICATES:\n",
    "        raise PolicyViolation(\n",
    "            f\"Predicate '{triple.p}' not allowed\",\n",
    "            \"predicate_not_allowed\"\n",
    "        )\n",
    "    \n",
    "    # Check PII\n",
    "    for pii_type, pattern in PII_PATTERNS.items():\n",
    "        if pattern.search(triple.o):\n",
    "            raise PolicyViolation(\n",
    "                f\"PII detected: {pii_type}\",\n",
    "                f\"pii_{pii_type}\"\n",
    "            )\n",
    "    \n",
    "    # Check length\n",
    "    if len(triple.o) > MAX_OBJECT_LENGTH:\n",
    "        raise PolicyViolation(\n",
    "            f\"Object too long: {len(triple.o)} > {MAX_OBJECT_LENGTH}\",\n",
    "            \"object_too_long\"\n",
    "        )\n",
    "\n",
    "\n",
    "print(\"✅ Security layer zdefiniowany\")"
   ]
  },
  {
   "cell_type": "markdown",
   "metadata": {},
   "source": [
    "## 🔍 Krok 5: Fact Extraction"
   ]
  },
  {
   "cell_type": "code",
   "execution_count": 5,
   "metadata": {
    "tags": []
   },
   "outputs": [
    {
     "name": "stdout",
     "output_type": "stream",
     "text": [
      "✅ Extraction engine zdefiniowany\n"
     ]
    }
   ],
   "source": [
    "# Extraction patterns\n",
    "EXTRACTION_PATTERNS: Final[list[tuple[re.Pattern, str, float]]] = [\n",
    "    # Currency (Polski)\n",
    "    (re.compile(r\"(?:ulubiona waluta|wolę walutę|preferuję|moja waluta to|waluta to)\\s+([A-Z]{3})\", re.IGNORECASE),\n",
    "     \"prefers_currency\", 0.8),\n",
    "    # Currency (English)\n",
    "    (re.compile(r\"(?:my (?:favorite|preferred) currency is|I prefer|currency is)\\s+([A-Z]{3})\", re.IGNORECASE),\n",
    "     \"prefers_currency\", 0.8),\n",
    "    # Currency (standalone)\n",
    "    (re.compile(r\"\\b(PLN|EUR|USD|GBP|CHF)\\b\"),\n",
    "     \"prefers_currency\", 0.6),\n",
    "    \n",
    "    # Contact channels (Polski)\n",
    "    (re.compile(r\"(?:wolę|preferuję|chcę)\\s+(?:kontakt przez|przez)\\s+(email|sms|push)\", re.IGNORECASE),\n",
    "     \"contact_channel\", 0.8),\n",
    "    # Contact channels (English)\n",
    "    (re.compile(r\"(?:I prefer|contact me via|reach me by)\\s+(email|sms|push)\", re.IGNORECASE),\n",
    "     \"contact_channel\", 0.8),\n",
    "    \n",
    "    # Interests (Polski)\n",
    "    (re.compile(r\"(?:interesuje mnie|chciałbym wiedzieć o|pytanie o)\\s+(chargeback|przelewy?|kart[aąy])\", re.IGNORECASE),\n",
    "     \"interested_in\", 0.8),\n",
    "    # Interests (English)\n",
    "    (re.compile(r\"(?:I am interested in|tell me about|question about)\\s+(chargeback|transfers?|cards?)\", re.IGNORECASE),\n",
    "     \"interested_in\", 0.8),\n",
    "    # Interests (standalone)\n",
    "    (re.compile(r\"\\b(chargeback|przelewy?|kart[aąy]|transfers?|cards?)\\b\", re.IGNORECASE),\n",
    "     \"interested_in\", 0.6),\n",
    "]\n",
    "\n",
    "# Value normalization\n",
    "VALUE_NORMALIZATIONS: Final[dict[str, str]] = {\n",
    "    \"pln\": \"PLN\", \"eur\": \"EUR\", \"usd\": \"USD\", \"gbp\": \"GBP\", \"chf\": \"CHF\",\n",
    "    \"email\": \"email\", \"sms\": \"SMS\", \"push\": \"push\",\n",
    "    \"chargeback\": \"chargeback\",\n",
    "    \"przelew\": \"transfer\", \"przelewy\": \"transfer\",\n",
    "    \"karta\": \"card\", \"karty\": \"card\", \"kartą\": \"card\",\n",
    "    \"transfer\": \"transfer\", \"transfers\": \"transfer\",\n",
    "    \"card\": \"card\", \"cards\": \"card\",\n",
    "}\n",
    "\n",
    "\n",
    "def extract_facts(user_id: str, message: str) -> list[Triple]:\n",
    "    \"\"\"Extract structured facts from user message\"\"\"\n",
    "    extracted = []\n",
    "    \n",
    "    for pattern, predicate, confidence in EXTRACTION_PATTERNS:\n",
    "        for match in pattern.finditer(message):\n",
    "            raw_value = match.group(1).strip() if match.groups() else match.group(0).strip()\n",
    "            if not raw_value:\n",
    "                continue\n",
    "            \n",
    "            normalized = VALUE_NORMALIZATIONS.get(raw_value.lower(), raw_value)\n",
    "            \n",
    "            triple = Triple(\n",
    "                user_id=user_id,\n",
    "                s=user_id,\n",
    "                p=predicate,\n",
    "                o=normalized,\n",
    "                source=\"extraction\",\n",
    "                confidence=confidence,\n",
    "            )\n",
    "            extracted.append(triple)\n",
    "    \n",
    "    high_confidence = [t for t in extracted if t.confidence >= 0.6]\n",
    "    high_confidence.sort(key=lambda t: t.confidence, reverse=True)\n",
    "    \n",
    "    return high_confidence\n",
    "\n",
    "\n",
    "print(\"✅ Extraction engine zdefiniowany\")"
   ]
  },
  {
   "cell_type": "markdown",
   "metadata": {},
   "source": [
    "## 💾 Krok 6: Triple Store"
   ]
  },
  {
   "cell_type": "code",
   "execution_count": 6,
   "metadata": {
    "tags": []
   },
   "outputs": [
    {
     "name": "stdout",
     "output_type": "stream",
     "text": [
      "✅ Triple Store zdefiniowany\n"
     ]
    }
   ],
   "source": [
    "class InMemoryTripleStore:\n",
    "    \"\"\"Thread-safe in-memory graph storage\"\"\"\n",
    "    \n",
    "    def __init__(self):\n",
    "        self._store: dict[str, Triple] = {}\n",
    "        self._lock = RLock()\n",
    "    \n",
    "    def add_triple(self, triple: Triple) -> None:\n",
    "        \"\"\"Store triple (upsert)\"\"\"\n",
    "        with self._lock:\n",
    "            self._store[triple.id] = triple\n",
    "    \n",
    "    def get_user_triples(self, user_id: str, limit: int = 10) -> list[Triple]:\n",
    "        \"\"\"Get user triples (newest first)\"\"\"\n",
    "        with self._lock:\n",
    "            user_triples = [\n",
    "                t for t in self._store.values() if t.user_id == user_id\n",
    "            ]\n",
    "            user_triples.sort(key=lambda t: t.created_at, reverse=True)\n",
    "            return user_triples[:limit]\n",
    "    \n",
    "    def get_all_triples(self) -> list[Triple]:\n",
    "        \"\"\"Get all triples\"\"\"\n",
    "        with self._lock:\n",
    "            return list(self._store.values())\n",
    "    \n",
    "    def to_dataframe(self) -> pd.DataFrame:\n",
    "        \"\"\"Convert to pandas DataFrame\"\"\"\n",
    "        triples = self.get_all_triples()\n",
    "        if not triples:\n",
    "            return pd.DataFrame(columns=['user_id', 'p', 'o', 'confidence'])\n",
    "        \n",
    "        return pd.DataFrame([\n",
    "            {\n",
    "                'user_id': t.user_id,\n",
    "                'p': t.p,\n",
    "                'o': t.o,\n",
    "                'confidence': t.confidence,\n",
    "            }\n",
    "            for t in triples\n",
    "        ])\n",
    "\n",
    "\n",
    "print(\"✅ Triple Store zdefiniowany\")"
   ]
  },
  {
   "cell_type": "markdown",
   "metadata": {},
   "source": [
    "## 📚 Krok 7: FAQ Data & Retriever"
   ]
  },
  {
   "cell_type": "code",
   "execution_count": 7,
   "metadata": {
    "tags": []
   },
   "outputs": [
    {
     "name": "stdout",
     "output_type": "stream",
     "text": [
      "✅ Załadowano 5 FAQ entries\n"
     ]
    }
   ],
   "source": [
    "# FAQ Database (5 entries dla prostoty)\n",
    "FAQ_DATA = [\n",
    "    {\n",
    "        \"id\": 1,\n",
    "        \"category\": \"chargeback\",\n",
    "        \"q\": \"Jak zgłosić chargeback?\",\n",
    "        \"aliases\": [\"Reklamacja transakcji\", \"Spór transakcja\"],\n",
    "        \"a\": \"Spór zgłosisz z poziomu aplikacji. Wejdź w sporną transakcję i wybierz 'Zgłoś spór / chargeback'.\",\n",
    "        \"next_steps\": [\n",
    "            \"W aplikacji otwórz szczegóły transakcji.\",\n",
    "            \"Wybierz 'Zgłoś spór / chargeback'.\"\n",
    "        ],\n",
    "        \"tags\": [\"chargeback\", \"reklamacja\"]\n",
    "    },\n",
    "    {\n",
    "        \"id\": 2,\n",
    "        \"category\": \"card\",\n",
    "        \"q\": \"Jak zmienić PIN do karty?\",\n",
    "        \"aliases\": [\"Zmiana PIN\", \"Reset PIN\"],\n",
    "        \"a\": \"PIN zmienisz w aplikacji: Karty → Ustawienia → Zmień PIN.\",\n",
    "        \"next_steps\": [\n",
    "            \"Aplikacja → Karty → Ustawienia → Zmień PIN.\",\n",
    "            \"Postępuj zgodnie z instrukcją.\"\n",
    "        ],\n",
    "        \"tags\": [\"karta\", \"PIN\"]\n",
    "    },\n",
    "    {\n",
    "        \"id\": 3,\n",
    "        \"category\": \"card\",\n",
    "        \"q\": \"Jak zastrzec zgubioną kartę?\",\n",
    "        \"aliases\": [\"Zgubiona karta\", \"Skradziona karta\"],\n",
    "        \"a\": \"Wejdź w aplikacji w Karty i wybierz 'Zastrzeż kartę'. To natychmiast unieważnia kartę.\",\n",
    "        \"next_steps\": [\n",
    "            \"Aplikacja → Karty → 'Zastrzeż kartę'.\",\n",
    "            \"Zamów nową kartę.\"\n",
    "        ],\n",
    "        \"tags\": [\"karta\", \"bezpieczeństwo\"]\n",
    "    },\n",
    "    {\n",
    "        \"id\": 4,\n",
    "        \"category\": \"transfers\",\n",
    "        \"q\": \"Jak wykonać przelew?\",\n",
    "        \"aliases\": [\"Przelew\", \"Wysłanie pieniędzy\"],\n",
    "        \"a\": \"Przelewy wykonasz w sekcji Przelewy. Wybierz typ przelewu i uzupełnij dane odbiorcy.\",\n",
    "        \"next_steps\": [\n",
    "            \"Otwórz aplikację → Przelewy.\",\n",
    "            \"Wybierz typ i uzupełnij formularz.\"\n",
    "        ],\n",
    "        \"tags\": [\"przelew\", \"transfer\"]\n",
    "    },\n",
    "    {\n",
    "        \"id\": 5,\n",
    "        \"category\": \"support\",\n",
    "        \"q\": \"Jak skontaktować się z konsultantem?\",\n",
    "        \"aliases\": [\"Kontakt support\"],\n",
    "        \"a\": \"Najszybsza ścieżka to czat w aplikacji. Wybierz Profil → Pomoc → 'Połącz z konsultantem'.\",\n",
    "        \"next_steps\": [\n",
    "            \"Aplikacja → Profil → Pomoc.\",\n",
    "            \"'Połącz z konsultantem'.\"\n",
    "        ],\n",
    "        \"tags\": [\"support\", \"kontakt\"]\n",
    "    },\n",
    "]\n",
    "\n",
    "\n",
    "@dataclass(frozen=True)\n",
    "class RetrievalResult:\n",
    "    \"\"\"FAQ retrieval result\"\"\"\n",
    "    entry: FAQEntry\n",
    "    score: float\n",
    "\n",
    "\n",
    "class FAQRetriever:\n",
    "    \"\"\"TF-IDF based FAQ search\"\"\"\n",
    "    \n",
    "    MIN_SIMILARITY = 0.35\n",
    "    \n",
    "    def __init__(self, entries: list[FAQEntry]):\n",
    "        self.entries = entries\n",
    "        \n",
    "        corpus = [\n",
    "            \" \".join([e.q] + e.aliases + e.tags)\n",
    "            for e in entries\n",
    "        ]\n",
    "        \n",
    "        self.vectorizer = TfidfVectorizer(\n",
    "            analyzer=\"char\",\n",
    "            ngram_range=(2, 4),\n",
    "            max_features=5000,\n",
    "            strip_accents=\"unicode\",\n",
    "            lowercase=True,\n",
    "        )\n",
    "        \n",
    "        self.vectors = self.vectorizer.fit_transform(corpus)\n",
    "    \n",
    "    def search(self, query: str, top_k: int = 3) -> list[RetrievalResult]:\n",
    "        \"\"\"Search FAQ by query\"\"\"\n",
    "        query_vector = self.vectorizer.transform([query])\n",
    "        similarities = cosine_similarity(query_vector, self.vectors).flatten()\n",
    "        top_indices = np.argsort(similarities)[::-1][:top_k]\n",
    "        \n",
    "        results = []\n",
    "        for idx in top_indices:\n",
    "            score = float(similarities[idx])\n",
    "            entry = self.entries[idx]\n",
    "            results.append(RetrievalResult(entry=entry, score=score))\n",
    "        \n",
    "        return results\n",
    "\n",
    "\n",
    "# Load FAQ entries\n",
    "faq_entries = [FAQEntry(**entry) for entry in FAQ_DATA]\n",
    "\n",
    "print(f\"✅ Załadowano {len(faq_entries)} FAQ entries\")"
   ]
  },
  {
   "cell_type": "markdown",
   "metadata": {},
   "source": [
    "## 🤖 Krok 8: Agent"
   ]
  },
  {
   "cell_type": "code",
   "execution_count": 8,
   "metadata": {
    "tags": []
   },
   "outputs": [
    {
     "name": "stdout",
     "output_type": "stream",
     "text": [
      "✅ Agent zdefiniowany\n"
     ]
    }
   ],
   "source": [
    "class Agent:\n",
    "    \"\"\"Rule-based conversational agent\"\"\"\n",
    "    \n",
    "    def __init__(self, memory: InMemoryTripleStore, retriever: FAQRetriever):\n",
    "        self.memory = memory\n",
    "        self.retriever = retriever\n",
    "    \n",
    "    def process_message(self, user_id: str, message: str) -> dict:\n",
    "        \"\"\"Process user message and generate response\"\"\"\n",
    "        # 1. Extract facts\n",
    "        extracted_facts = extract_facts(user_id, message)\n",
    "        \n",
    "        # 2. Validate and store\n",
    "        stored_facts = []\n",
    "        for fact in extracted_facts:\n",
    "            try:\n",
    "                validate_triple(fact)\n",
    "                self.memory.add_triple(fact)\n",
    "                stored_facts.append(fact)\n",
    "            except PolicyViolation:\n",
    "                continue\n",
    "        \n",
    "        # 3. Retrieve FAQ\n",
    "        faq_results = self.retriever.search(message, top_k=3)\n",
    "        \n",
    "        # 4. Get user facts\n",
    "        user_facts = self.memory.get_user_triples(user_id, limit=5)\n",
    "        \n",
    "        # 5. Generate answer\n",
    "        answer = self._generate_answer(message, faq_results, user_facts)\n",
    "        \n",
    "        return {\n",
    "            \"answer\": answer,\n",
    "            \"extracted_facts\": len(extracted_facts),\n",
    "            \"stored_facts\": len(stored_facts),\n",
    "            \"used_faq_entries\": [r.entry.id for r in faq_results],\n",
    "            \"user_facts_count\": len(user_facts),\n",
    "        }\n",
    "    \n",
    "    def _generate_answer(\n",
    "        self,\n",
    "        message: str,\n",
    "        faq_results: list[RetrievalResult],\n",
    "        user_facts: list[Triple],\n",
    "    ) -> str:\n",
    "        \"\"\"Generate template-based answer\"\"\"\n",
    "        if not faq_results or faq_results[0].score < 0.35:\n",
    "            return (\n",
    "                \"Przepraszam, nie jestem pewien, o co dokładnie pytasz. \"\n",
    "                \"Mogę pomóc w sprawach związanych z kartami, chargebackiem, \"\n",
    "                \"przelewami i supportem.\"\n",
    "            )\n",
    "        \n",
    "        best = faq_results[0]\n",
    "        entry = best.entry\n",
    "        \n",
    "        parts = [entry.a]\n",
    "        \n",
    "        if entry.next_steps:\n",
    "            parts.append(\"\\n\\n**Następne kroki:**\")\n",
    "            for step in entry.next_steps[:2]:\n",
    "                parts.append(f\"• {step}\")\n",
    "        \n",
    "        if user_facts:\n",
    "            parts.append(\"\\n\\n**Twoje preferencje:**\")\n",
    "            for fact in user_facts[:2]:\n",
    "                labels = {\n",
    "                    \"prefers_currency\": \"Preferowana waluta\",\n",
    "                    \"contact_channel\": \"Kanał kontaktu\",\n",
    "                    \"interested_in\": \"Zainteresowanie\",\n",
    "                }\n",
    "                label = labels.get(fact.p, fact.p)\n",
    "                parts.append(f\"• {label}: {fact.o}\")\n",
    "        \n",
    "        return \"\\n\".join(parts)\n",
    "\n",
    "\n",
    "print(\"✅ Agent zdefiniowany\")"
   ]
  },
  {
   "cell_type": "markdown",
   "metadata": {},
   "source": [
    "## 🚀 Krok 9: Inicjalizacja"
   ]
  },
  {
   "cell_type": "code",
   "execution_count": 9,
   "metadata": {
    "tags": []
   },
   "outputs": [
    {
     "name": "stdout",
     "output_type": "stream",
     "text": [
      "\n",
      "🎉 AGENT GOTOWY DO TESTÓW!\n",
      "✅ FAQ entries: 5\n",
      "✅ Vocabulary size: 567\n",
      "\n",
      "================================================================================\n"
     ]
    }
   ],
   "source": [
    "# Initialize components\n",
    "memory = InMemoryTripleStore()\n",
    "retriever = FAQRetriever(faq_entries)\n",
    "agent = Agent(memory=memory, retriever=retriever)\n",
    "\n",
    "print(\"\\n🎉 AGENT GOTOWY DO TESTÓW!\")\n",
    "print(f\"✅ FAQ entries: {len(faq_entries)}\")\n",
    "print(f\"✅ Vocabulary size: {len(retriever.vectorizer.vocabulary_)}\")\n",
    "print(\"\\n\" + \"=\"*80)"
   ]
  },
  {
   "cell_type": "markdown",
   "metadata": {},
   "source": [
    "---\n",
    "\n",
    "# 🎬 TESTY - Uruchom poniższe komórki!\n",
    "\n",
    "---"
   ]
  },
  {
   "cell_type": "markdown",
   "metadata": {},
   "source": [
    "## Test 1: Ekstrakcja faktów + FAQ"
   ]
  },
  {
   "cell_type": "code",
   "execution_count": 10,
   "metadata": {
    "tags": []
   },
   "outputs": [
    {
     "name": "stdout",
     "output_type": "stream",
     "text": [
      "\n",
      "🔍 TEST 1: Ekstrakcja faktów + FAQ\n",
      "================================================================================\n",
      "👤 User [user-1]: Moja ulubiona waluta to EUR. Jak zgłosić chargeback?\n",
      "\n",
      "================================================================================\n",
      "\n",
      "🤖 Agent:\n",
      "Spór zgłosisz z poziomu aplikacji. Wejdź w sporną transakcję i wybierz 'Zgłoś spór / chargeback'.\n",
      "\n",
      "\n",
      "**Następne kroki:**\n",
      "• W aplikacji otwórz szczegóły transakcji.\n",
      "• Wybierz 'Zgłoś spór / chargeback'.\n",
      "\n",
      "\n",
      "**Twoje preferencje:**\n",
      "• Zainteresowanie: chargeback\n",
      "• Preferowana waluta: EUR\n",
      "\n",
      "📊 Metadata:\n",
      "  • Wyekstrahowano faktów: 3\n",
      "  • Zapisano faktów: 3\n",
      "  • FAQ entries użyte: [1, 3, 2]\n",
      "  • Fakty użytkownika: 2\n",
      "\n",
      "================================================================================\n"
     ]
    }
   ],
   "source": [
    "print(\"\\n🔍 TEST 1: Ekstrakcja faktów + FAQ\\n\" + \"=\"*80)\n",
    "\n",
    "user_id = \"user-1\"\n",
    "message = \"Moja ulubiona waluta to EUR. Jak zgłosić chargeback?\"\n",
    "\n",
    "print(f\"👤 User [{user_id}]: {message}\")\n",
    "print(\"\\n\" + \"=\"*80 + \"\\n\")\n",
    "\n",
    "result = agent.process_message(user_id, message)\n",
    "\n",
    "print(f\"🤖 Agent:\\n{result['answer']}\")\n",
    "print(f\"\\n📊 Metadata:\")\n",
    "print(f\"  • Wyekstrahowano faktów: {result['extracted_facts']}\")\n",
    "print(f\"  • Zapisano faktów: {result['stored_facts']}\")\n",
    "print(f\"  • FAQ entries użyte: {result['used_faq_entries']}\")\n",
    "print(f\"  • Fakty użytkownika: {result['user_facts_count']}\")\n",
    "print(\"\\n\" + \"=\"*80)"
   ]
  },
  {
   "cell_type": "markdown",
   "metadata": {},
   "source": [
    "## Test 2: Samo FAQ (bez faktów)"
   ]
  },
  {
   "cell_type": "code",
   "execution_count": 11,
   "metadata": {
    "tags": []
   },
   "outputs": [
    {
     "name": "stdout",
     "output_type": "stream",
     "text": [
      "\n",
      "🔍 TEST 2: Samo FAQ (bez faktów)\n",
      "================================================================================\n",
      "👤 User [user-2]: Jak zmienić PIN do karty?\n",
      "\n",
      "================================================================================\n",
      "\n",
      "🤖 Agent:\n",
      "PIN zmienisz w aplikacji: Karty → Ustawienia → Zmień PIN.\n",
      "\n",
      "\n",
      "**Następne kroki:**\n",
      "• Aplikacja → Karty → Ustawienia → Zmień PIN.\n",
      "• Postępuj zgodnie z instrukcją.\n",
      "\n",
      "\n",
      "**Twoje preferencje:**\n",
      "• Zainteresowanie: card\n",
      "\n",
      "📊 Metadata:\n",
      "  • Wyekstrahowano faktów: 1\n",
      "  • Zapisano faktów: 1\n",
      "  • FAQ entries użyte: [2, 3, 4]\n",
      "\n",
      "================================================================================\n"
     ]
    }
   ],
   "source": [
    "print(\"\\n🔍 TEST 2: Samo FAQ (bez faktów)\\n\" + \"=\"*80)\n",
    "\n",
    "user_id = \"user-2\"\n",
    "message = \"Jak zmienić PIN do karty?\"\n",
    "\n",
    "print(f\"👤 User [{user_id}]: {message}\")\n",
    "print(\"\\n\" + \"=\"*80 + \"\\n\")\n",
    "\n",
    "result = agent.process_message(user_id, message)\n",
    "\n",
    "print(f\"🤖 Agent:\\n{result['answer']}\")\n",
    "print(f\"\\n📊 Metadata:\")\n",
    "print(f\"  • Wyekstrahowano faktów: {result['extracted_facts']}\")\n",
    "print(f\"  • Zapisano faktów: {result['stored_facts']}\")\n",
    "print(f\"  • FAQ entries użyte: {result['used_faq_entries']}\")\n",
    "print(\"\\n\" + \"=\"*80)"
   ]
  },
  {
   "cell_type": "markdown",
   "metadata": {},
   "source": [
    "## Test 3: Kontekst użytkownika (druga wiadomość)"
   ]
  },
  {
   "cell_type": "code",
   "execution_count": 12,
   "metadata": {
    "tags": []
   },
   "outputs": [
    {
     "name": "stdout",
     "output_type": "stream",
     "text": [
      "\n",
      "🔍 TEST 3: Kontekst użytkownika (druga wiadomość)\n",
      "================================================================================\n",
      "👤 User [user-1]: Jak wykonać przelew?\n",
      "\n",
      "================================================================================\n",
      "\n",
      "🤖 Agent:\n",
      "Przelewy wykonasz w sekcji Przelewy. Wybierz typ przelewu i uzupełnij dane odbiorcy.\n",
      "\n",
      "\n",
      "**Następne kroki:**\n",
      "• Otwórz aplikację → Przelewy.\n",
      "• Wybierz typ i uzupełnij formularz.\n",
      "\n",
      "\n",
      "**Twoje preferencje:**\n",
      "• Zainteresowanie: transfer\n",
      "• Zainteresowanie: chargeback\n",
      "\n",
      "📊 Metadata:\n",
      "  • Wyekstrahowano faktów: 1\n",
      "  • Zapisano faktów: 1\n",
      "  • FAQ entries użyte: [4, 5, 3]\n",
      "  • Fakty użytkownika: 3\n",
      "\n",
      "💡 UWAGA: Agent pamięta preferencje z poprzedniej wiadomości!\n",
      "\n",
      "================================================================================\n"
     ]
    }
   ],
   "source": [
    "print(\"\\n🔍 TEST 3: Kontekst użytkownika (druga wiadomość)\\n\" + \"=\"*80)\n",
    "\n",
    "user_id = \"user-1\"  # Ten sam user co w Test 1!\n",
    "message = \"Jak wykonać przelew?\"\n",
    "\n",
    "print(f\"👤 User [{user_id}]: {message}\")\n",
    "print(\"\\n\" + \"=\"*80 + \"\\n\")\n",
    "\n",
    "result = agent.process_message(user_id, message)\n",
    "\n",
    "print(f\"🤖 Agent:\\n{result['answer']}\")\n",
    "print(f\"\\n📊 Metadata:\")\n",
    "print(f\"  • Wyekstrahowano faktów: {result['extracted_facts']}\")\n",
    "print(f\"  • Zapisano faktów: {result['stored_facts']}\")\n",
    "print(f\"  • FAQ entries użyte: {result['used_faq_entries']}\")\n",
    "print(f\"  • Fakty użytkownika: {result['user_facts_count']}\")\n",
    "print(\"\\n💡 UWAGA: Agent pamięta preferencje z poprzedniej wiadomości!\")\n",
    "print(\"\\n\" + \"=\"*80)"
   ]
  },
  {
   "cell_type": "markdown",
   "metadata": {},
   "source": [
    "## Test 4: Detekcja PII (ochrona danych)"
   ]
  },
  {
   "cell_type": "code",
   "execution_count": 13,
   "metadata": {
    "tags": []
   },
   "outputs": [
    {
     "name": "stdout",
     "output_type": "stream",
     "text": [
      "\n",
      "🔍 TEST 4: Detekcja PII (email)\n",
      "================================================================================\n",
      "👤 User [user-3]: Mój email to olga@piknik.com\n",
      "\n",
      "================================================================================\n",
      "\n",
      "🤖 Agent:\n",
      "Przepraszam, nie jestem pewien, o co dokładnie pytasz. Mogę pomóc w sprawach związanych z kartami, chargebackiem, przelewami i supportem.\n",
      "\n",
      "📊 Metadata:\n",
      "  • Wyekstrahowano faktów: 0\n",
      "  • Zapisano faktów: 0 ← Email został ZABLOKOWANY!\n",
      "\n",
      "🛡️ PII Protection działa! Email nie został zapisany.\n",
      "\n",
      "================================================================================\n"
     ]
    }
   ],
   "source": [
    "print(\"\\n🔍 TEST 4: Detekcja PII (email)\\n\" + \"=\"*80)\n",
    "\n",
    "user_id = \"user-3\"\n",
    "message = \"Mój email to olga@piknik.com\"\n",
    "\n",
    "print(f\"👤 User [{user_id}]: {message}\")\n",
    "print(\"\\n\" + \"=\"*80 + \"\\n\")\n",
    "\n",
    "result = agent.process_message(user_id, message)\n",
    "\n",
    "print(f\"🤖 Agent:\\n{result['answer']}\")\n",
    "print(f\"\\n📊 Metadata:\")\n",
    "print(f\"  • Wyekstrahowano faktów: {result['extracted_facts']}\")\n",
    "print(f\"  • Zapisano faktów: {result['stored_facts']} ← Email został ZABLOKOWANY!\")\n",
    "print(\"\\n🛡️ PII Protection działa! Email nie został zapisany.\")\n",
    "print(\"\\n\" + \"=\"*80)"
   ]
  },
  {
   "cell_type": "markdown",
   "metadata": {},
   "source": [
    "## Test 5: Brak dopasowania FAQ"
   ]
  },
  {
   "cell_type": "code",
   "execution_count": 14,
   "metadata": {
    "tags": []
   },
   "outputs": [
    {
     "name": "stdout",
     "output_type": "stream",
     "text": [
      "\n",
      "🔍 TEST 5: Brak dopasowania FAQ\n",
      "================================================================================\n",
      "👤 User [user-4]: Co sądzisz o pogodzie?\n",
      "\n",
      "================================================================================\n",
      "\n",
      "🤖 Agent:\n",
      "Przepraszam, nie jestem pewien, o co dokładnie pytasz. Mogę pomóc w sprawach związanych z kartami, chargebackiem, przelewami i supportem.\n",
      "\n",
      "📊 Metadata:\n",
      "  • Wyekstrahowano faktów: 0\n",
      "  • Zapisano faktów: 0\n",
      "\n",
      "💡 Agent zwrócił ogólną wiadomość, bo nie znalazł pasującego FAQ.\n",
      "\n",
      "================================================================================\n"
     ]
    }
   ],
   "source": [
    "print(\"\\n🔍 TEST 5: Brak dopasowania FAQ\\n\" + \"=\"*80)\n",
    "\n",
    "user_id = \"user-4\"\n",
    "message = \"Co sądzisz o pogodzie?\"\n",
    "\n",
    "print(f\"👤 User [{user_id}]: {message}\")\n",
    "print(\"\\n\" + \"=\"*80 + \"\\n\")\n",
    "\n",
    "result = agent.process_message(user_id, message)\n",
    "\n",
    "print(f\"🤖 Agent:\\n{result['answer']}\")\n",
    "print(f\"\\n📊 Metadata:\")\n",
    "print(f\"  • Wyekstrahowano faktów: {result['extracted_facts']}\")\n",
    "print(f\"  • Zapisano faktów: {result['stored_facts']}\")\n",
    "print(\"\\n💡 Agent zwrócił ogólną wiadomość, bo nie znalazł pasującego FAQ.\")\n",
    "print(\"\\n\" + \"=\"*80)"
   ]
  },
  {
   "cell_type": "markdown",
   "metadata": {},
   "source": [
    "---\n",
    "\n",
    "## 📊 STATYSTYKI PAMIĘCI\n",
    "\n",
    "---"
   ]
  },
  {
   "cell_type": "code",
   "execution_count": null,
   "metadata": {},
   "outputs": [],
   "source": [
    "print(\"\\n📊 STATYSTYKI PAMIĘCI\\n\" + \"=\"*80 + \"\\n\")\n",
    "\n",
    "df = memory.to_dataframe()\n",
    "\n",
    "if len(df) > 0:\n",
    "    print(f\"Zapisanych faktów: {len(df)}\")\n",
    "    print(f\"Unikalnych użytkowników: {df['user_id'].nunique()}\")\n",
    "    print(\"\\nZapisane fakty:\")\n",
    "    print(df[['user_id', 'p', 'o', 'confidence']].to_string(index=False))\n",
    "else:\n",
    "    print(\"⚠️ Brak faktów w pamięci\")\n",
    "\n",
    "print(\"\\n\" + \"=\"*80)\n",
    "print(\"\\n✅ WSZYSTKIE TESTY ZAKOŃCZONE!\")\n",
    "print(\"\\n💡 Możesz teraz uruchomić własne testy w poniższej komórce.\")"
   ]
  },
  {
   "cell_type": "markdown",
   "metadata": {},
   "source": [
    "---\n",
    "\n",
    "## 🎮 TWOJE WŁASNE TESTY\n",
    "\n",
    "Uruchom komórkę poniżej z własnymi wiadomościami!\n",
    "\n",
    "---"
   ]
  },
  {
   "cell_type": "code",
   "execution_count": 19,
   "metadata": {
    "tags": []
   },
   "outputs": [
    {
     "name": "stdout",
     "output_type": "stream",
     "text": [
      "🤖 Przepraszam, nie jestem pewien, o co dokładnie pytasz. Mogę pomóc w sprawach związanych z kartami, chargebackiem, przelewami i supportem.\n",
      "\n",
      "🤖 Wejdź w aplikacji w Karty i wybierz 'Zastrzeż kartę'. To natychmiast unieważnia kartę.\n",
      "\n",
      "\n",
      "**Następne kroki:**\n",
      "• Aplikacja → Karty → 'Zastrzeż kartę'.\n",
      "• Zamów nową kartę.\n",
      "\n"
     ]
    }
   ],
   "source": [
    "# Wypróbuj własne zapytania!\n",
    "\n",
    "# Przykład 1: Twoja waluta\n",
    "result = agent.process_message(\"olga\", \"Preferuję EUR\")\n",
    "print(f\"🤖 {result['answer']}\\n\")\n",
    "\n",
    "# Przykład 2: Twoje pytanie\n",
    "result = agent.process_message(\"moj-user\", \"mam zablokowana karte?\")\n",
    "print(f\"🤖 {result['answer']}\\n\")\n",
    "\n",
    "# Dodaj więcej testów tutaj!\n",
    "# result = agent.process_message(\"test-user\", \"Twoja wiadomość tutaj\")\n",
    "# print(f\"🤖 {result['answer']}\\n\")"
   ]
  },
  {
   "cell_type": "markdown",
   "metadata": {},
   "source": [
    "---\n",
    "\n",
    "# 🎉 Gratulacje!\n",
    "\n",
    "Udało Ci się uruchomić **Graph Memory Agent** na Vertex AI!\n",
    "\n",
    "### Co zobaczyłeś:\n",
    "1. ✅ Ekstrakcję faktów (\"Moja waluta to EUR\")\n",
    "2. ✅ FAQ retrieval (TF-IDF search)\n",
    "3. ✅ Kontekst użytkownika (agent pamięta!)\n",
    "4. ✅ PII protection (email zablokowany)\n",
    "5. ✅ Fallback dla nieznanych pytań\n",
    "\n",
    "### Co dalej?\n",
    "- Dodaj więcej FAQ entries\n",
    "- Rozszerz patterns ekstrakcji\n",
    "- Dodaj nowe języki\n",
    "- Zintegruj z własnym systemem\n",
    "\n",
    "---\n",
    "\n",
    "**Autor:** Principal Systems Architect (L10)  \n",
    "**Wersja:** 1.0.0  \n",
    "**Python:** 3.10+\n",
    "\n",
    "---"
   ]
  }
 ],
 "metadata": {
  "environment": {
   "kernel": "data_generator_chatbot_banking",
   "name": "workbench-notebooks.m129",
   "type": "gcloud",
   "uri": "us-docker.pkg.dev/deeplearning-platform-release/gcr.io/workbench-notebooks:m129"
  },
  "kernelspec": {
   "display_name": "DataGen for banking chatbot (Python 3.11)",
   "language": "python",
   "name": "data_generator_chatbot_banking"
  },
  "language_info": {
   "codemirror_mode": {
    "name": "ipython",
    "version": 3
   },
   "file_extension": ".py",
   "mimetype": "text/x-python",
   "name": "python",
   "nbconvert_exporter": "python",
   "pygments_lexer": "ipython3",
   "version": "3.11.14"
  }
 },
 "nbformat": 4,
 "nbformat_minor": 4
}
