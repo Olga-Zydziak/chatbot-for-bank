{
 "cells": [
  {
   "cell_type": "code",
   "execution_count": 2,
   "id": "90c7e6e7-e6f3-48ac-ad18-3573ce0651c7",
   "metadata": {
    "tags": []
   },
   "outputs": [
    {
     "name": "stdout",
     "output_type": "stream",
     "text": [
      "✅ Wypakowano do: /home/jupyter/olga_zydziak/version_beta/Folder/chatbot-simple\n",
      "Zawartość po wypakowaniu:\n",
      " - /home/jupyter/olga_zydziak/version_beta/Folder/chatbot-simple/memory_qa.py\n",
      " - /home/jupyter/olga_zydziak/version_beta/Folder/chatbot-simple/adapters/faq_ingest_adapter.py\n"
     ]
    }
   ],
   "source": [
    "# 📦 Wypakowanie patcha Q&A do repo (uruchom w Jupyterze)\n",
    "import zipfile, os\n",
    "from pathlib import Path\n",
    "\n",
    "# Zakładamy, że zip jest w katalogu /mnt/data lub w katalogu głównym repo\n",
    "zip_path = Path(\"memory_qa_patch.zip\")  # lub zmień ścieżkę, jeśli jest gdzie indziej\n",
    "target_dir = Path.cwd()  # aktualny katalog (repo chatbot-for-bank-main)\n",
    "\n",
    "if not zip_path.exists():\n",
    "    raise FileNotFoundError(f\"Nie znaleziono pliku: {zip_path}\")\n",
    "\n",
    "with zipfile.ZipFile(zip_path, 'r') as z:\n",
    "    z.extractall(target_dir)\n",
    "\n",
    "print(f\"✅ Wypakowano do: {target_dir.resolve()}\")\n",
    "print(\"Zawartość po wypakowaniu:\")\n",
    "for path in sorted(target_dir.glob(\"memory_qa.py\")):\n",
    "    print(\" -\", path)\n",
    "for path in sorted((target_dir / \"adapters\").glob(\"faq_ingest_adapter.py\")):\n",
    "    print(\" -\", path)\n"
   ]
  },
  {
   "cell_type": "code",
   "execution_count": 1,
   "id": "df082cbf-716d-4814-a8e8-d5fae51e291a",
   "metadata": {
    "tags": []
   },
   "outputs": [
    {
     "name": "stdout",
     "output_type": "stream",
     "text": [
      "Zliczone rekordy FAQ: 32\n",
      "Znaleziono blok PIN: True\n",
      "Q: Jak zmienić PIN do karty?\n",
      "A: PIN zmienisz w aplikacji mobilnej: przejdź do Karty → Ustawienia → Zmień PIN. Postępuj zgodnie z instrukcjami. W niektórych przypadkach zmianę trzeba dokończyć w bankomacie. ...\n",
      "ALIASES: Zmiana PIN, Reset PIN do karty, Nowy PIN\n"
     ]
    }
   ],
   "source": [
    "from pathlib import Path\n",
    "import re\n",
    "\n",
    "faq_path = Path(\"data/banking_faq_30plus.txt\")\n",
    "text = faq_path.read_text(encoding=\"utf-8\", errors=\"ignore\")\n",
    "\n",
    "FAQ_ITEM_RE = re.compile(r\"\"\"\n",
    "^\\s*\\[CATEGORY:\\s*(?P<category>[^\\]]+)\\]\\s*?\\n\n",
    "Q:\\s*(?P<q>.*?)\\n\n",
    "A:\\s*(?P<a>.*?)\\n\n",
    "ALIASES:\\s*(?P<aliases>.*?)\\n\n",
    "(?:NEXT_STEPS:\\s*(?P<next_steps>(?:-.*?\\n)+))?\n",
    "TAGS:\\s*(?P<tags>.*?)(?:\\n{2,}|$)\n",
    "\"\"\", re.IGNORECASE | re.DOTALL | re.VERBOSE | re.MULTILINE)\n",
    "\n",
    "blocks = list(FAQ_ITEM_RE.finditer(text))\n",
    "print(\"Zliczone rekordy FAQ:\", len(blocks))\n",
    "\n",
    "hit = [m for m in blocks if \"jak zmienić pin do karty\" in m.group(\"q\").lower()]\n",
    "print(\"Znaleziono blok PIN:\", bool(hit))\n",
    "if hit:\n",
    "    m = hit[0]\n",
    "    print(\"Q:\", m.group(\"q\"))\n",
    "    print(\"A:\", m.group(\"a\")[:180], \"...\")\n",
    "    print(\"ALIASES:\", m.group(\"aliases\"))\n"
   ]
  },
  {
   "cell_type": "code",
   "execution_count": 2,
   "id": "d6905b45-4d2f-4223-a9ee-e734bdd1d1c6",
   "metadata": {
    "tags": []
   },
   "outputs": [
    {
     "name": "stdout",
     "output_type": "stream",
     "text": [
      "Załadowane fakty: 1\n",
      "ID faktów PIN: []\n"
     ]
    }
   ],
   "source": [
    "import time\n",
    "from graph_mem import GraphMem\n",
    "from adapters.faq_ingest_adapter import ingest_faq_to_graph\n",
    "\n",
    "gm = GraphMem()\n",
    "n = ingest_faq_to_graph(\"data/banking_faq_30plus.txt\", gm)\n",
    "print(\"Załadowane fakty:\", n)\n",
    "\n",
    "# znajdź w pamięci dokładny Q:\n",
    "pin_ids = [i for i,f in enumerate(gm.facts) if \"Q: Jak zmienić PIN do karty?\" in f.text]\n",
    "print(\"ID faktów PIN:\", pin_ids[:5])\n",
    "if pin_ids:\n",
    "    i = pin_ids[0]\n",
    "    print(\"--- podgląd ---\")\n",
    "    print(\"\\n\".join(gm.facts[i].text.splitlines()[:6]))\n"
   ]
  },
  {
   "cell_type": "code",
   "execution_count": null,
   "id": "51c28f5b-4834-401d-bec0-b98710881455",
   "metadata": {},
   "outputs": [],
   "source": []
  }
 ],
 "metadata": {
  "environment": {
   "kernel": "data_generator_chatbot_banking",
   "name": "workbench-notebooks.m129",
   "type": "gcloud",
   "uri": "us-docker.pkg.dev/deeplearning-platform-release/gcr.io/workbench-notebooks:m129"
  },
  "kernelspec": {
   "display_name": "DataGen for banking chatbot (Python 3.11)",
   "language": "python",
   "name": "data_generator_chatbot_banking"
  },
  "language_info": {
   "codemirror_mode": {
    "name": "ipython",
    "version": 3
   },
   "file_extension": ".py",
   "mimetype": "text/x-python",
   "name": "python",
   "nbconvert_exporter": "python",
   "pygments_lexer": "ipython3",
   "version": "3.11.14"
  }
 },
 "nbformat": 4,
 "nbformat_minor": 5
}
