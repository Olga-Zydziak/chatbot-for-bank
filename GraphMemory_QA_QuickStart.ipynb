{
 "cells": [
  {
   "cell_type": "markdown",
   "id": "e361eee3",
   "metadata": {},
   "source": [
    "# GraphMemory Q&A — QuickStart (Notebook)\n",
    "\n",
    "Ten notatnik pokazuje, jak **testować chatbota korzystającego z Twojej pamięci grafowej (GraphMem)** na danych FAQ.\n",
    "\n",
    "## Wymagania wstępne\n",
    "1. Otwórz ten notatnik **w katalogu głównym repo** `chatbot-for-bank-main/`.\n",
    "2. Upewnij się, że do repo zostały dodane pliki z paczki: `memory_qa.py` oraz `adapters/faq_ingest_adapter.py`.\n",
    "   - Jeżeli jeszcze ich nie masz, rozpakuj paczkę `memory_qa_patch.zip` do katalogu repo.\n",
    "3. Zależności: tylko `numpy`.\n"
   ]
  },
  {
   "cell_type": "code",
   "execution_count": 1,
   "id": "550bf649",
   "metadata": {
    "tags": []
   },
   "outputs": [
    {
     "name": "stdout",
     "output_type": "stream",
     "text": [
      "✅ Środowisko gotowe.\n"
     ]
    }
   ],
   "source": [
    "# ✅ Setup: ścieżki i zależności\n",
    "import sys, os\n",
    "from pathlib import Path\n",
    "\n",
    "repo_root = Path.cwd()\n",
    "sys.path.insert(0, str(repo_root))\n",
    "\n",
    "req = []\n",
    "try:\n",
    "    import numpy  # noqa: F401\n",
    "except Exception as e:\n",
    "    req.append('numpy')\n",
    "\n",
    "if req:\n",
    "    # Zainstaluj brakujące zależności w środowisku notatnika\n",
    "    import sys, subprocess\n",
    "    subprocess.check_call([sys.executable, '-m', 'pip', 'install', *req])\n",
    "\n",
    "# Pliki wymagane do działania\n",
    "assert (repo_root/\"memory_qa.py\").exists(), \"Brak memory_qa.py — rozpakuj memory_qa_patch.zip do repo.\" \n",
    "assert (repo_root/\"adapters\"/\"faq_ingest_adapter.py\").exists(), \"Brak adapters/faq_ingest_adapter.py — rozpakuj memory_qa_patch.zip do repo.\" \n",
    "assert (repo_root/\"data\"/\"banking_faq_30plus.txt\").exists(), \"Brak data/banking_faq_30plus.txt — sprawdź dane w repo.\"\n",
    "print('✅ Środowisko gotowe.')\n"
   ]
  },
  {
   "cell_type": "code",
   "execution_count": 2,
   "id": "c3562922",
   "metadata": {
    "tags": []
   },
   "outputs": [
    {
     "data": {
      "text/plain": [
       "1"
      ]
     },
     "execution_count": 2,
     "metadata": {},
     "output_type": "execute_result"
    }
   ],
   "source": [
    "# 🚀 Inicjalizacja bota Q&A z pamięci grafowej\n",
    "from memory_qa import build_bot_from_faq\n",
    "bot = build_bot_from_faq(\"data/banking_faq_30plus.txt\", alpha=0.7, min_sim=0.35)\n",
    "len(bot.gm.facts)\n"
   ]
  },
  {
   "cell_type": "code",
   "execution_count": 3,
   "id": "7550511b",
   "metadata": {
    "tags": []
   },
   "outputs": [
    {
     "name": "stdout",
     "output_type": "stream",
     "text": [
      "Gotowe. Użyj: ask(\"Jak zgłosić spór do transakcji kartą?\")\n"
     ]
    }
   ],
   "source": [
    "# 🔎 Pomocnicza funkcja do zapytań i podglądu kandydatów\n",
    "from pprint import pprint\n",
    "def ask(q: str, k: int = 5):\n",
    "    r = bot.answer(q)\n",
    "    print('\\nQ:', q)\n",
    "    print('A:', r[\"answer\"])    \n",
    "    if 'matched_question' in r:\n",
    "        print('Matched Q:', r['matched_question'])\n",
    "    if 'category' in r and r['category']:\n",
    "        print('Category:', r['category'])\n",
    "    print('score=', r.get('score'), 'sim=', r.get('sim'), 'recency=', r.get('recency'))\n",
    "    if r.get('alternatives'):\n",
    "        print('\\nAlternatywy:')\n",
    "        for alt in r['alternatives']:\n",
    "            print('-', alt['question'], '| score', alt['score'])\n",
    "    return r\n",
    "\n",
    "print('Gotowe. Użyj: ask(\"Jak zgłosić spór do transakcji kartą?\")')\n"
   ]
  },
  {
   "cell_type": "code",
   "execution_count": 4,
   "id": "7748377c",
   "metadata": {
    "tags": []
   },
   "outputs": [
    {
     "name": "stdout",
     "output_type": "stream",
     "text": [
      "\n",
      "Q: Jak zgłosić spór do transakcji kartą?\n",
      "A: Chargeback to proces zwrotu środków dla posiadacza karty w przypadku sporu z transakcją kartową. Bank inicjuje postępowanie wobec organizacji płatniczej i sprzedawcy w celu odzyskania pieniędzy.\n",
      "Matched Q: Co to jest chargeback?\n",
      "Category: chargeback\n",
      "score= 0.608 sim= 0.446 recency= 0.987\n",
      "\n",
      "Q: Jak zmienić PIN do karty?\n",
      "A: Chargeback to proces zwrotu środków dla posiadacza karty w przypadku sporu z transakcją kartową. Bank inicjuje postępowanie wobec organizacji płatniczej i sprzedawcy w celu odzyskania pieniędzy.\n",
      "Matched Q: Co to jest chargeback?\n",
      "Category: chargeback\n",
      "score= 0.551 sim= 0.364 recency= 0.987\n",
      "\n",
      "Q: Chcę zastrzec kartę\n",
      "A: Nie mam pewnej odpowiedzi w pamięci. Spróbuj doprecyzować pytanie lub użyj innego sformułowania.\n",
      "score= None sim= None recency= None\n"
     ]
    },
    {
     "data": {
      "text/plain": [
       "{'answer': 'Nie mam pewnej odpowiedzi w pamięci. Spróbuj doprecyzować pytanie lub użyj innego sformułowania.',\n",
       " 'candidates': [{'preview': ['[CATEGORY] chargeback',\n",
       "    'Q: Co to jest chargeback?'],\n",
       "   'score': 0.519,\n",
       "   'sim': 0.318,\n",
       "   'recency': 0.987,\n",
       "   'category': 'chargeback',\n",
       "   'question': 'Co to jest chargeback?'}]}"
      ]
     },
     "execution_count": 4,
     "metadata": {},
     "output_type": "execute_result"
    }
   ],
   "source": [
    "# 🧪 Szybkie testy\n",
    "ask(\"Jak zgłosić spór do transakcji kartą?\")\n",
    "ask(\"Jak zmienić PIN do karty?\")\n",
    "ask(\"Chcę zastrzec kartę\")\n"
   ]
  },
  {
   "cell_type": "code",
   "execution_count": 5,
   "id": "91bb3b86",
   "metadata": {
    "tags": []
   },
   "outputs": [
    {
     "name": "stdout",
     "output_type": "stream",
     "text": [
      "\n",
      "Q: Jak zgłosić spór do transakcji kartą?\n",
      "A: Chargeback to proces zwrotu środków dla posiadacza karty w przypadku sporu z transakcją kartową. Bank inicjuje postępowanie wobec organizacji płatniczej i sprzedawcy w celu odzyskania pieniędzy.\n",
      "Matched Q: Co to jest chargeback?\n",
      "Category: chargeback\n",
      "score= 0.723 sim= 0.446 recency= 1.0\n"
     ]
    },
    {
     "data": {
      "text/plain": [
       "{'answer': 'Chargeback to proces zwrotu środków dla posiadacza karty w przypadku sporu z transakcją kartową. Bank inicjuje postępowanie wobec organizacji płatniczej i sprzedawcy w celu odzyskania pieniędzy.',\n",
       " 'category': 'chargeback',\n",
       " 'matched_question': 'Co to jest chargeback?',\n",
       " 'score': 0.723,\n",
       " 'sim': 0.446,\n",
       " 'recency': 1.0,\n",
       " 'alternatives': []}"
      ]
     },
     "execution_count": 5,
     "metadata": {},
     "output_type": "execute_result"
    }
   ],
   "source": [
    "# ⚙️ Strojenie: wpływ parametrów alpha oraz min_sim\n",
    "from memory_qa import MemoryQABot\n",
    "from adapters.faq_ingest_adapter import ingest_faq_to_graph\n",
    "from graph_mem import GraphMem\n",
    "import numpy as np\n",
    "\n",
    "def rebuild_bot(alpha=0.7, min_sim=0.35):\n",
    "    gm = GraphMem()\n",
    "    ingest_faq_to_graph(\"data/banking_faq_30plus.txt\", gm)\n",
    "    return MemoryQABot(gm, alpha=alpha, min_sim=min_sim)\n",
    "\n",
    "bot = rebuild_bot(alpha=0.5, min_sim=0.3)\n",
    "ask(\"Jak zgłosić spór do transakcji kartą?\")\n"
   ]
  },
  {
   "cell_type": "code",
   "execution_count": 6,
   "id": "be00d191",
   "metadata": {
    "tags": []
   },
   "outputs": [
    {
     "data": {
      "image/png": "[encoded data removed]",
      "text/plain": [
       "<Figure size 640x480 with 1 Axes>"
      ]
     },
     "metadata": {},
     "output_type": "display_data"
    }
   ],
   "source": [
    "# 📊 (Opcjonalnie) Prosta wizualizacja top-k kandydatów dla jednego pytania\n",
    "import matplotlib.pyplot as plt\n",
    "res = bot.retrieve(\"Jak zgłosić spór do transakcji kartą?\", k=5)\n",
    "xs = list(range(1, len(res)+1))\n",
    "ys = [c.score for c in res]\n",
    "plt.figure()\n",
    "plt.title(\"Top-k score kandydatów\")\n",
    "plt.bar(xs, ys)\n",
    "plt.xlabel('kandydat')\n",
    "plt.ylabel('score')\n",
    "plt.show()\n"
   ]
  },
  {
   "cell_type": "code",
   "execution_count": null,
   "id": "14728877-2f66-48d7-b67a-51c6ecbc2d09",
   "metadata": {},
   "outputs": [],
   "source": []
  }
 ],
 "metadata": {
  "environment": {
   "kernel": "data_generator_chatbot_banking",
   "name": "workbench-notebooks.m129",
   "type": "gcloud",
   "uri": "us-docker.pkg.dev/deeplearning-platform-release/gcr.io/workbench-notebooks:m129"
  },
  "kernelspec": {
   "display_name": "DataGen for banking chatbot (Python 3.11)",
   "language": "python",
   "name": "data_generator_chatbot_banking"
  },
  "language_info": {
   "codemirror_mode": {
    "name": "ipython",
    "version": 3
   },
   "file_extension": ".py",
   "mimetype": "text/x-python",
   "name": "python",
   "nbconvert_exporter": "python",
   "pygments_lexer": "ipython3",
   "version": "3.11.14"
  }
 },
 "nbformat": 4,
 "nbformat_minor": 5
}
